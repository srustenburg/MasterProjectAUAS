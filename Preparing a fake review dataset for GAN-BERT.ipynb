{
 "cells": [
  {
   "cell_type": "markdown",
   "metadata": {},
   "source": [
    "## Preparing the fake review dataset for GAN-BERT\n",
    "\n",
    "Through this notebook the dataset used by the recently published paper 'Creating and detecting fake reviews of online products' will be prepared to be used by GAN-BERT. Since GAN-BERT required unlabeled, labeled, and a test dataset, the dataset will be divided into three seperate datasets. Additionally, the datasets are cleaned, formatted, and later on exported as csv files to meet the requirements for GAN-BERT.\n",
    "\n",
    "The dataset is acquired from the paper 'Creating and detecting fake reviews of online products' published by Elsevier in early 2022, and can be downloaded using the following link:\n",
    "https://jonisalminen.com/fake-reviews-dataset-and-generation/"
   ]
  },
  {
   "cell_type": "code",
   "execution_count": 1,
   "metadata": {},
   "outputs": [],
   "source": [
    "# Importing necessary libraries\n",
    "import pandas as pd"
   ]
  },
  {
   "cell_type": "code",
   "execution_count": 2,
   "metadata": {},
   "outputs": [
    {
     "name": "stdout",
     "output_type": "stream",
     "text": [
      "<bound method NDFrame.head of                            category  rating label  \\\n",
      "0                Home_and_Kitchen_5     5.0    CG   \n",
      "1                Home_and_Kitchen_5     5.0    CG   \n",
      "2                Home_and_Kitchen_5     5.0    CG   \n",
      "3                Home_and_Kitchen_5     1.0    CG   \n",
      "4                Home_and_Kitchen_5     5.0    CG   \n",
      "...                             ...     ...   ...   \n",
      "40427  Clothing_Shoes_and_Jewelry_5     4.0    OR   \n",
      "40428  Clothing_Shoes_and_Jewelry_5     5.0    CG   \n",
      "40429  Clothing_Shoes_and_Jewelry_5     2.0    OR   \n",
      "40430  Clothing_Shoes_and_Jewelry_5     1.0    CG   \n",
      "40431  Clothing_Shoes_and_Jewelry_5     5.0    OR   \n",
      "\n",
      "                                                   text_  \n",
      "0      Love this!  Well made, sturdy, and very comfor...  \n",
      "1      love it, a great upgrade from the original.  I...  \n",
      "2      This pillow saved my back. I love the look and...  \n",
      "3      Missing information on how to use it, but it i...  \n",
      "4      Very nice set. Good quality. We have had the s...  \n",
      "...                                                  ...  \n",
      "40427  I had read some reviews saying that this bra r...  \n",
      "40428  I wasn't sure exactly what it would be. It is ...  \n",
      "40429  You can wear the hood by itself, wear it with ...  \n",
      "40430  I liked nothing about this dress. The only rea...  \n",
      "40431  I work in the wedding industry and have to wor...  \n",
      "\n",
      "[40432 rows x 4 columns]>\n"
     ]
    }
   ],
   "source": [
    "# Reading dataset\n",
    "df = pd.read_csv (r'C:\\Users\\Gebruiker\\Desktop\\Master Project\\Datasets\\fake reviews dataset.csv')\n",
    "df"
   ]
  },
  {
   "cell_type": "markdown",
   "metadata": {},
   "source": [
    "### Cleaning the dataset for GAN-BERT purposes"
   ]
  },
  {
   "cell_type": "code",
   "execution_count": 3,
   "metadata": {},
   "outputs": [],
   "source": [
    "# Removing the 'category' & 'rating label' columns, which are unnecessary for GAN-BERT\n",
    "df_clean = df.drop(df.columns[[0, 1]], axis=1)"
   ]
  },
  {
   "cell_type": "markdown",
   "metadata": {},
   "source": [
    "### Dividing the dataset"
   ]
  },
  {
   "cell_type": "code",
   "execution_count": 5,
   "metadata": {},
   "outputs": [
    {
     "name": "stdout",
     "output_type": "stream",
     "text": [
      "No. of unlabled examples: 32346\n",
      "No. of test examples: 8086\n"
     ]
    }
   ],
   "source": [
    "# Creating a unlabeled and test dataset out of the entire dataset\n",
    "unlabeled_data = df_clean.sample(frac=0.8, random_state=25)\n",
    "test_data = df_clean.drop(unlabeled_data.index)\n",
    "\n",
    "print(f\"No. of unlabled examples: {unlabeled_data.shape[0]}\")\n",
    "print(f\"No. of test examples: {test_data.shape[0]}\")"
   ]
  },
  {
   "cell_type": "code",
   "execution_count": 6,
   "metadata": {},
   "outputs": [],
   "source": [
    "df_unlabeled = unlabeled_data\n",
    "df_test = test_data"
   ]
  },
  {
   "cell_type": "code",
   "execution_count": 7,
   "metadata": {},
   "outputs": [
    {
     "name": "stdout",
     "output_type": "stream",
     "text": [
      "No. of test examples: 6469\n",
      "No. of labeled examples: 1617\n"
     ]
    }
   ],
   "source": [
    "# Creating a test and labeled data set out of the test dataset\n",
    "test_data = df_test.sample(frac=0.8, random_state=25)\n",
    "labeled_data = df_test.drop(test_data.index)\n",
    "\n",
    "print(f\"No. of test examples: {test_data.shape[0]}\")\n",
    "print(f\"No. of labeled examples: {labeled_data.shape[0]}\")"
   ]
  },
  {
   "cell_type": "code",
   "execution_count": null,
   "metadata": {},
   "outputs": [],
   "source": [
    "df_labeled = labeled_data"
   ]
  },
  {
   "cell_type": "markdown",
   "metadata": {},
   "source": [
    "### Unlabeling the unlabeled dataset"
   ]
  },
  {
   "cell_type": "code",
   "execution_count": 9,
   "metadata": {},
   "outputs": [
    {
     "data": {
      "text/html": [
       "<div>\n",
       "<style scoped>\n",
       "    .dataframe tbody tr th:only-of-type {\n",
       "        vertical-align: middle;\n",
       "    }\n",
       "\n",
       "    .dataframe tbody tr th {\n",
       "        vertical-align: top;\n",
       "    }\n",
       "\n",
       "    .dataframe thead th {\n",
       "        text-align: right;\n",
       "    }\n",
       "</style>\n",
       "<table border=\"1\" class=\"dataframe\">\n",
       "  <thead>\n",
       "    <tr style=\"text-align: right;\">\n",
       "      <th></th>\n",
       "      <th>label</th>\n",
       "      <th>text_</th>\n",
       "    </tr>\n",
       "  </thead>\n",
       "  <tbody>\n",
       "    <tr>\n",
       "      <th>27974</th>\n",
       "      <td>UNK</td>\n",
       "      <td>Love the farm life, though, and the fact that ...</td>\n",
       "    </tr>\n",
       "    <tr>\n",
       "      <th>10869</th>\n",
       "      <td>UNK</td>\n",
       "      <td>I use this at a time when I am running a few t...</td>\n",
       "    </tr>\n",
       "    <tr>\n",
       "      <th>38660</th>\n",
       "      <td>UNK</td>\n",
       "      <td>SIZE IS NOT ACCURED, YOU NEED TO EXPLAIN THE B...</td>\n",
       "    </tr>\n",
       "    <tr>\n",
       "      <th>14904</th>\n",
       "      <td>UNK</td>\n",
       "      <td>I liked this movie and still do! I just wish H...</td>\n",
       "    </tr>\n",
       "    <tr>\n",
       "      <th>21824</th>\n",
       "      <td>UNK</td>\n",
       "      <td>The initial shipment of treats was destroyed w...</td>\n",
       "    </tr>\n",
       "    <tr>\n",
       "      <th>...</th>\n",
       "      <td>...</td>\n",
       "      <td>...</td>\n",
       "    </tr>\n",
       "    <tr>\n",
       "      <th>18955</th>\n",
       "      <td>UNK</td>\n",
       "      <td>Love this Moen 26100 Magnetix (Cordless) in th...</td>\n",
       "    </tr>\n",
       "    <tr>\n",
       "      <th>31175</th>\n",
       "      <td>UNK</td>\n",
       "      <td>98-precent of this book is that it is an inter...</td>\n",
       "    </tr>\n",
       "    <tr>\n",
       "      <th>4866</th>\n",
       "      <td>UNK</td>\n",
       "      <td>These look to be very nice. The only problem i...</td>\n",
       "    </tr>\n",
       "    <tr>\n",
       "      <th>35078</th>\n",
       "      <td>UNK</td>\n",
       "      <td>Darn, I must not have read the fine print some...</td>\n",
       "    </tr>\n",
       "    <tr>\n",
       "      <th>34697</th>\n",
       "      <td>UNK</td>\n",
       "      <td>This was a great find. After the floating seas...</td>\n",
       "    </tr>\n",
       "  </tbody>\n",
       "</table>\n",
       "<p>32346 rows × 2 columns</p>\n",
       "</div>"
      ],
      "text/plain": [
       "      label                                              text_\n",
       "27974   UNK  Love the farm life, though, and the fact that ...\n",
       "10869   UNK  I use this at a time when I am running a few t...\n",
       "38660   UNK  SIZE IS NOT ACCURED, YOU NEED TO EXPLAIN THE B...\n",
       "14904   UNK  I liked this movie and still do! I just wish H...\n",
       "21824   UNK  The initial shipment of treats was destroyed w...\n",
       "...     ...                                                ...\n",
       "18955   UNK  Love this Moen 26100 Magnetix (Cordless) in th...\n",
       "31175   UNK  98-precent of this book is that it is an inter...\n",
       "4866    UNK  These look to be very nice. The only problem i...\n",
       "35078   UNK  Darn, I must not have read the fine print some...\n",
       "34697   UNK  This was a great find. After the floating seas...\n",
       "\n",
       "[32346 rows x 2 columns]"
      ]
     },
     "execution_count": 9,
     "metadata": {},
     "output_type": "execute_result"
    }
   ],
   "source": [
    "# Replacing 'CG' & 'OR' with UNK, to make the dataset unlabeled\n",
    "df_unlabeled['label'] = df_unlabeled['label'].str.replace('CG', 'UNK')\n",
    "df_unlabeled['label'] = df_unlabeled['label'].str.replace('OR', 'UNK')\n",
    "df_unlabeled"
   ]
  },
  {
   "cell_type": "markdown",
   "metadata": {},
   "source": [
    "### Exporting the datasets as CSV files"
   ]
  },
  {
   "cell_type": "code",
   "execution_count": 10,
   "metadata": {},
   "outputs": [],
   "source": [
    "# Exporting the unlabeled dataset as a CSV file\n",
    "df_unlabeled.to_csv(r'C:\\Users\\Gebruiker\\Desktop\\Master Project\\Datasets\\unlabeled_amazon.csv', index=False)"
   ]
  },
  {
   "cell_type": "code",
   "execution_count": 11,
   "metadata": {},
   "outputs": [],
   "source": [
    "# Exporting the test dataset as a CSV file\n",
    "df_test.to_csv(r'C:\\Users\\Gebruiker\\Desktop\\Master Project\\Datasets\\test_amazon.csv', index=False)"
   ]
  },
  {
   "cell_type": "code",
   "execution_count": 12,
   "metadata": {},
   "outputs": [],
   "source": [
    "# Exporting the labeled dataset as a CSV file\n",
    "df_labeled.to_csv(r'C:\\Users\\Gebruiker\\Desktop\\Master Project\\Datasets\\labeled_amazon.csv', index=False)"
   ]
  }
 ],
 "metadata": {
  "kernelspec": {
   "display_name": "Python 3.8.8 ('base')",
   "language": "python",
   "name": "python3"
  },
  "language_info": {
   "codemirror_mode": {
    "name": "ipython",
    "version": 3
   },
   "file_extension": ".py",
   "mimetype": "text/x-python",
   "name": "python",
   "nbconvert_exporter": "python",
   "pygments_lexer": "ipython3",
   "version": "3.8.8"
  },
  "orig_nbformat": 4,
  "vscode": {
   "interpreter": {
    "hash": "db3ad00c254152fbd946dfe3ddf750e2d6dd1f511dd85499e770b0c6b301697a"
   }
  }
 },
 "nbformat": 4,
 "nbformat_minor": 2
}
